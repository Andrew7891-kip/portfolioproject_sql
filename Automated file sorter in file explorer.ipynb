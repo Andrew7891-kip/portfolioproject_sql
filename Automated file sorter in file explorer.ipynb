{
 "cells": [
  {
   "cell_type": "code",
   "execution_count": 5,
   "id": "1183d13c",
   "metadata": {},
   "outputs": [
    {
     "name": "stdout",
     "output_type": "stream",
     "text": [
      "['Data Cleaning Excel Tutorial.xlsx', 'excel file', 'Excel Project Dataset.xlsx', 'image file', 'WhatsApp Image 2024-01-26 at 04.41.08 - Copy.jpeg']\n"
     ]
    }
   ],
   "source": [
    "import os,shutil\n",
    "path = r\"C:/Users/USER/Downloads/test1/\"\n",
    "file_name = os.listdir(path)\n",
    "print(file_name)"
   ]
  },
  {
   "cell_type": "code",
   "execution_count": 6,
   "id": "88889daf",
   "metadata": {},
   "outputs": [],
   "source": [
    "folder_name = [\"excel file\",\"image file\"]\n",
    "for i in range(0,2):\n",
    "    if not os.path.exists(path + folder_name[i]):\n",
    "        os.makedirs(path + folder_name[i])\n",
    "    "
   ]
  },
  {
   "cell_type": "code",
   "execution_count": 7,
   "id": "8c4e4680",
   "metadata": {},
   "outputs": [],
   "source": [
    "for j in file_name:\n",
    "    if \".xlsx\" in j and not os.path.exists(path +\"excel file/\"+ j):\n",
    "        shutil.move(path + j,path +\"excel file/\"+ j)\n",
    "    if \".jpeg\" in j and not os.path.exists(path +\"image file/\"+ j):\n",
    "        shutil.move(path + j,path +\"image file/\"+ j)"
   ]
  },
  {
   "cell_type": "code",
   "execution_count": null,
   "id": "12d634c7",
   "metadata": {},
   "outputs": [],
   "source": []
  }
 ],
 "metadata": {
  "kernelspec": {
   "display_name": "Python 3 (ipykernel)",
   "language": "python",
   "name": "python3"
  },
  "language_info": {
   "codemirror_mode": {
    "name": "ipython",
    "version": 3
   },
   "file_extension": ".py",
   "mimetype": "text/x-python",
   "name": "python",
   "nbconvert_exporter": "python",
   "pygments_lexer": "ipython3",
   "version": "3.11.5"
  }
 },
 "nbformat": 4,
 "nbformat_minor": 5
}
